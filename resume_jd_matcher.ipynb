{
 "cells": [
  {
   "cell_type": "code",
   "execution_count": 1,
   "metadata": {
    "colab": {
     "base_uri": "https://localhost:8080/"
    },
    "id": "vfy7zmIAZVNk",
    "outputId": "fe5f014c-264c-4a84-e020-d63420ea27fd"
   },
   "outputs": [
    {
     "name": "stdout",
     "output_type": "stream",
     "text": [
      "\u001b[2K   \u001b[90m━━━━━━━━━━━━━━━━━━━━━━━━━━━━━━━━━━━━━━━━\u001b[0m \u001b[32m363.4/363.4 MB\u001b[0m \u001b[31m4.6 MB/s\u001b[0m eta \u001b[36m0:00:00\u001b[0m\n",
      "\u001b[2K   \u001b[90m━━━━━━━━━━━━━━━━━━━━━━━━━━━━━━━━━━━━━━━━\u001b[0m \u001b[32m13.8/13.8 MB\u001b[0m \u001b[31m57.9 MB/s\u001b[0m eta \u001b[36m0:00:00\u001b[0m\n",
      "\u001b[2K   \u001b[90m━━━━━━━━━━━━━━━━━━━━━━━━━━━━━━━━━━━━━━━━\u001b[0m \u001b[32m24.6/24.6 MB\u001b[0m \u001b[31m48.8 MB/s\u001b[0m eta \u001b[36m0:00:00\u001b[0m\n",
      "\u001b[2K   \u001b[90m━━━━━━━━━━━━━━━━━━━━━━━━━━━━━━━━━━━━━━━━\u001b[0m \u001b[32m883.7/883.7 kB\u001b[0m \u001b[31m32.1 MB/s\u001b[0m eta \u001b[36m0:00:00\u001b[0m\n",
      "\u001b[2K   \u001b[90m━━━━━━━━━━━━━━━━━━━━━━━━━━━━━━━━━━━━━━━━\u001b[0m \u001b[32m664.8/664.8 MB\u001b[0m \u001b[31m2.2 MB/s\u001b[0m eta \u001b[36m0:00:00\u001b[0m\n",
      "\u001b[2K   \u001b[90m━━━━━━━━━━━━━━━━━━━━━━━━━━━━━━━━━━━━━━━━\u001b[0m \u001b[32m211.5/211.5 MB\u001b[0m \u001b[31m5.9 MB/s\u001b[0m eta \u001b[36m0:00:00\u001b[0m\n",
      "\u001b[2K   \u001b[90m━━━━━━━━━━━━━━━━━━━━━━━━━━━━━━━━━━━━━━━━\u001b[0m \u001b[32m56.3/56.3 MB\u001b[0m \u001b[31m12.1 MB/s\u001b[0m eta \u001b[36m0:00:00\u001b[0m\n",
      "\u001b[2K   \u001b[90m━━━━━━━━━━━━━━━━━━━━━━━━━━━━━━━━━━━━━━━━\u001b[0m \u001b[32m127.9/127.9 MB\u001b[0m \u001b[31m7.5 MB/s\u001b[0m eta \u001b[36m0:00:00\u001b[0m\n",
      "\u001b[2K   \u001b[90m━━━━━━━━━━━━━━━━━━━━━━━━━━━━━━━━━━━━━━━━\u001b[0m \u001b[32m207.5/207.5 MB\u001b[0m \u001b[31m6.1 MB/s\u001b[0m eta \u001b[36m0:00:00\u001b[0m\n",
      "\u001b[2K   \u001b[90m━━━━━━━━━━━━━━━━━━━━━━━━━━━━━━━━━━━━━━━━\u001b[0m \u001b[32m21.1/21.1 MB\u001b[0m \u001b[31m87.1 MB/s\u001b[0m eta \u001b[36m0:00:00\u001b[0m\n",
      "\u001b[?25h"
     ]
    }
   ],
   "source": [
    "!pip install -q sentence-transformers"
   ]
  },
  {
   "cell_type": "code",
   "execution_count": 2,
   "metadata": {
    "id": "yDP-9XDSZ-FM"
   },
   "outputs": [],
   "source": [
    "from sentence_transformers import SentenceTransformer, util\n",
    "import pandas as pd"
   ]
  },
  {
   "cell_type": "code",
   "execution_count": 3,
   "metadata": {
    "id": "rVICJIrWaI_W"
   },
   "outputs": [],
   "source": [
    "# Sample resumes\n",
    "resumes = {\n",
    "    \"Resume A\": \"I have experience in Python, machine learning, and data analysis. I built ML models and worked with Pandas and NumPy.\",\n",
    "    \"Resume B\": \"Skilled in SQL and Excel. I created dashboards in Tableau and generated reports for business analysis.\",\n",
    "    \"Resume C\": \"Worked with deep learning models like BERT and Transformers. I'm passionate about NLP and language models.\"\n",
    "}\n"
   ]
  },
  {
   "cell_type": "code",
   "execution_count": 4,
   "metadata": {
    "id": "0NZayXTQaMxT"
   },
   "outputs": [],
   "source": [
    "# Sample job descriptions\n",
    "job_descriptions = {\n",
    "    \"JD 1\": \"Looking for a Python developer with experience in machine learning and data analysis.\",\n",
    "    \"JD 2\": \"Need a data analyst who knows SQL, Excel, and can create dashboards using BI tools like Tableau.\",\n",
    "    \"JD 3\": \"Hiring NLP intern familiar with BERT, Transformers, and deep learning frameworks.\"\n",
    "}\n"
   ]
  },
  {
   "cell_type": "code",
   "execution_count": 5,
   "metadata": {
    "colab": {
     "base_uri": "https://localhost:8080/",
     "height": 473,
     "referenced_widgets": [
      "409ad454cc7d451c9dd67fa546345947",
      "d389c4c6837145dca680209bec27f384",
      "a8c8e92de1354a22a609dc2c16bda1fc",
      "1f44fb8bfd6441768a9d19277957a967",
      "ff65b813659d44c4abf880ec799cb161",
      "01ca56e6eaf948bc9ec8ccb7a0210f1f",
      "579b36ca275943a098cf6fdc64c626e3",
      "d34d51d9dbd84628afa71947916adb82",
      "c0b580af3676483faa2954f5a12f8a6a",
      "3e0cdd6b0e7f4bf3b8e400084646b526",
      "49fc06ff20f24343a24efc54a9e5c4ab",
      "2daf262aec49403492d8633c19c3f076",
      "432ab89a2e7b42afada65406ea673c93",
      "29052c60fb134c39b1c67dbc73f32e6c",
      "2d91ebbc1f7843838de4b809b1fd12b1",
      "c9f40a27208b4908b8a7540641543f35",
      "c2c17b75e02542ed97d511f3c08bd8cc",
      "e0177769933140cfab63cc15224f1637",
      "4f10a85f07aa4dc8a2decd3fb9980bfd",
      "b65ad0fd818a4955a7a048659e4eb261",
      "c1d0bb6eb26942cb8354301e86b1c25e",
      "493c5db560814057acf8f4cd30c1af88",
      "389609ee46b64adf9a27f7486b80da2c",
      "16753c2456b84f83b486bbd1f3e72d14",
      "91d3280251db441a964b7d8605daff5d",
      "772c339d67b844e792ebcbb0208e4d5a",
      "d9d6fccb58ff4895a52f1e977ab4388c",
      "4a3a4caa8bb64cac84dbae65e1ca779b",
      "287b5a9e06b3462f8eb28d93d87910ae",
      "3ee767ce1a1841bc896d3d5c12e3afc1",
      "e3fc5c495c454b12b8772b5bbc0faf33",
      "3f3cd1f315d449bf943dd26b31e7e65f",
      "5ad39f500ef1455f8dad97f3c065d56a",
      "74c0310b2fed42d388de8ad36f148a30",
      "11f2732d1160480a80af24b269850eb9",
      "faaa0273f1b847c88b8131cdaa0d18e6",
      "780b6583047047ee8003341a984d091e",
      "21873c7e8133485bbaea8215922c6ac2",
      "c583700d018c4794a45241287a304959",
      "fed778666f3e435fb45d555ec041715a",
      "fac1bf33627b45218272da5e3cf5251b",
      "2f430d5b2c554cdb9835e9eb022dfbdd",
      "5cf1e1d825c347808fcb3716033fbbe4",
      "dadb6fe89e7e40e1b64531f96d1f761b",
      "137cdfca73d44fe8b193534e7bb21cf3",
      "27af9d9063b54fb5ab525a8c7a7ffee5",
      "1d1e1b3daf9e4251b1a704da28cd4262",
      "4d7474f956a147f8a86070acf9023822",
      "3d996be9bfcf4d97ad77a47e1d2d47b5",
      "c8175f6d6ec4428580a6e8edb8d123c6",
      "4a5c7fa4d91d4a40a4ec2672268054df",
      "2e1458cd04554197b9e462ecc54ed0e5",
      "168fbf671ea648918879dc2e7bca27fe",
      "31f6b582e74d47cabe9d68d6c6d62001",
      "23adf2fd187040458ea4586ca4f99fc8",
      "80c1f977dd08464d9e14716185c44687",
      "1721e381cd2e4a8a849f080c60d3e2d1",
      "1ecf1f2c51bb42d1befaa808e10308a1",
      "6eca4aa85315439e8fe2800431666f93",
      "1c25938fa5454ce2a8d04bff31d5c4a1",
      "4ec494c757fd447085ab81903692df4e",
      "05e22f87aa514da3aed32a5d1ac28ccb",
      "fb3bcf32e3664efb867d1473b61aa89e",
      "edce8c07bf624bd8b52a95f82c15c870",
      "37d6527a5d0347548c41e075bca745ec",
      "429d192e63654f11ab8882d6b0311f62",
      "6b90859e12bf46669755986d19ded328",
      "7e63cdf95daf4984aa90968ba393fab4",
      "13fe830192aa46c1b880809960d37f75",
      "f9b6e2afa1f64c1bb1b9c4273be5c1c5",
      "f026744a6f43431ea66bf35d3f6aa7f3",
      "dd113460cbe141f989e3b2cfc1e4cfc4",
      "7da56751c9d14e5a809e0ec43e618999",
      "2b0d318f9f3f44d09c29fbbd53d8b8c9",
      "3e07ca08550a4cbbaa3ff764e412daaf",
      "c4f219f973b5463c9de3d26ace5b012a",
      "df3ee9f6037d40adb9976a0ffb38b685",
      "30e0a4dfe0284c1d9d0e21c16143f793",
      "a08614c7660545ee8ec3d71675f8732d",
      "2293311b9a824cf0925a70c03b8ca5c7",
      "5db3ecc3676f46a89dd7703a54b7508f",
      "905576d261d84f11b9dbe35a3c7d60cc",
      "7dbba59b1c454c6bab699b0fb6f8e5fe",
      "8eb89dff75b14769a439bc639b9d0f25",
      "58c8b34ff47a49b880b2adc8ccc710f8",
      "079f1a4e24d44ee18f225b52f52c324e",
      "9b625fbd47e24459a900421e2e24b6b0",
      "711abedc46bc4ee7a77471428764ac65",
      "73158fb0c8d84a90b555a454e120df67",
      "21fe902ec0b0439ca89d3011227aeb59",
      "5ec83dcc69854a21964694e349d2aab5",
      "a6d5e09fde8b4fcaac380278c52685eb",
      "af55308997504834bb631911259b4577",
      "fd66a917e87f4b21b2a4fb2d38035f93",
      "056602a610fd4ba1a0a3bbdda9998f59",
      "dc5671b0cab2421598452ecd66c95c27",
      "7667aeeedd184523b92a61fef6469027",
      "f4d570702df644b2a951602db516e711",
      "ca2b5e9e9c20466e810a0b07f132be26",
      "2ba065f48a6949439677d4655dc40899",
      "bc5b81d5c8084481b5262194a214f7ca",
      "9e4a4f0d0cd44990ae3220ebd514ab25",
      "00866f8b689d4a3991cb923115db715b",
      "2efc4b35622d457bba69e45f71043316",
      "e972f342752d4d1292055dd1b421ce06",
      "885f74ad685c4725ba2e177503005288",
      "2b1970bd7f534ed59dceee8b335db2b0",
      "9601cf6725484b89a8ca54a6e8b73de1",
      "e1a1bcf959894727b4076747547478e5",
      "af809717f0d64a6ba26aad6d65450615",
      "bd79f4f40ebd4aad88935d228a865fe8",
      "c24769ab6d464f8da3e1adbb4559baa3",
      "e7a4939de27c4da3be0f183aec53a5e6",
      "982429ca7e8d4a6db9a16cfb54dd370b",
      "8cc9ffaac4b54973ac9590c57e4206f3",
      "61bffd0754cc4e7b8e6fd0be484961c6",
      "481be911b7db4ffead8c9389f43e3b0f",
      "e0fc9ee8736e47af92b528fa62ccd288",
      "bc228574c5834b3fab2cc264a855e450",
      "9eb20fc4a0d4404cb0e9aa74c8996584",
      "37ff79df26434507a17accb3f09ca5b5"
     ]
    },
    "id": "VCzRFw6EaQdJ",
    "outputId": "06e670ff-276c-484d-cfd0-ca6b9949ceea"
   },
   "outputs": [
    {
     "name": "stderr",
     "output_type": "stream",
     "text": [
      "/usr/local/lib/python3.11/dist-packages/huggingface_hub/utils/_auth.py:94: UserWarning: \n",
      "The secret `HF_TOKEN` does not exist in your Colab secrets.\n",
      "To authenticate with the Hugging Face Hub, create a token in your settings tab (https://huggingface.co/settings/tokens), set it as secret in your Google Colab and restart your session.\n",
      "You will be able to reuse this secret in all of your notebooks.\n",
      "Please note that authentication is recommended but still optional to access public models or datasets.\n",
      "  warnings.warn(\n"
     ]
    },
    {
     "data": {
      "application/vnd.jupyter.widget-view+json": {
       "model_id": "409ad454cc7d451c9dd67fa546345947",
       "version_major": 2,
       "version_minor": 0
      },
      "text/plain": [
       "modules.json:   0%|          | 0.00/349 [00:00<?, ?B/s]"
      ]
     },
     "metadata": {},
     "output_type": "display_data"
    },
    {
     "data": {
      "application/vnd.jupyter.widget-view+json": {
       "model_id": "2daf262aec49403492d8633c19c3f076",
       "version_major": 2,
       "version_minor": 0
      },
      "text/plain": [
       "config_sentence_transformers.json:   0%|          | 0.00/116 [00:00<?, ?B/s]"
      ]
     },
     "metadata": {},
     "output_type": "display_data"
    },
    {
     "data": {
      "application/vnd.jupyter.widget-view+json": {
       "model_id": "389609ee46b64adf9a27f7486b80da2c",
       "version_major": 2,
       "version_minor": 0
      },
      "text/plain": [
       "README.md: 0.00B [00:00, ?B/s]"
      ]
     },
     "metadata": {},
     "output_type": "display_data"
    },
    {
     "data": {
      "application/vnd.jupyter.widget-view+json": {
       "model_id": "74c0310b2fed42d388de8ad36f148a30",
       "version_major": 2,
       "version_minor": 0
      },
      "text/plain": [
       "sentence_bert_config.json:   0%|          | 0.00/53.0 [00:00<?, ?B/s]"
      ]
     },
     "metadata": {},
     "output_type": "display_data"
    },
    {
     "data": {
      "application/vnd.jupyter.widget-view+json": {
       "model_id": "137cdfca73d44fe8b193534e7bb21cf3",
       "version_major": 2,
       "version_minor": 0
      },
      "text/plain": [
       "config.json:   0%|          | 0.00/612 [00:00<?, ?B/s]"
      ]
     },
     "metadata": {},
     "output_type": "display_data"
    },
    {
     "data": {
      "application/vnd.jupyter.widget-view+json": {
       "model_id": "80c1f977dd08464d9e14716185c44687",
       "version_major": 2,
       "version_minor": 0
      },
      "text/plain": [
       "model.safetensors:   0%|          | 0.00/90.9M [00:00<?, ?B/s]"
      ]
     },
     "metadata": {},
     "output_type": "display_data"
    },
    {
     "data": {
      "application/vnd.jupyter.widget-view+json": {
       "model_id": "6b90859e12bf46669755986d19ded328",
       "version_major": 2,
       "version_minor": 0
      },
      "text/plain": [
       "tokenizer_config.json:   0%|          | 0.00/350 [00:00<?, ?B/s]"
      ]
     },
     "metadata": {},
     "output_type": "display_data"
    },
    {
     "data": {
      "application/vnd.jupyter.widget-view+json": {
       "model_id": "30e0a4dfe0284c1d9d0e21c16143f793",
       "version_major": 2,
       "version_minor": 0
      },
      "text/plain": [
       "vocab.txt: 0.00B [00:00, ?B/s]"
      ]
     },
     "metadata": {},
     "output_type": "display_data"
    },
    {
     "data": {
      "application/vnd.jupyter.widget-view+json": {
       "model_id": "73158fb0c8d84a90b555a454e120df67",
       "version_major": 2,
       "version_minor": 0
      },
      "text/plain": [
       "tokenizer.json: 0.00B [00:00, ?B/s]"
      ]
     },
     "metadata": {},
     "output_type": "display_data"
    },
    {
     "data": {
      "application/vnd.jupyter.widget-view+json": {
       "model_id": "2ba065f48a6949439677d4655dc40899",
       "version_major": 2,
       "version_minor": 0
      },
      "text/plain": [
       "special_tokens_map.json:   0%|          | 0.00/112 [00:00<?, ?B/s]"
      ]
     },
     "metadata": {},
     "output_type": "display_data"
    },
    {
     "data": {
      "application/vnd.jupyter.widget-view+json": {
       "model_id": "bd79f4f40ebd4aad88935d228a865fe8",
       "version_major": 2,
       "version_minor": 0
      },
      "text/plain": [
       "config.json:   0%|          | 0.00/190 [00:00<?, ?B/s]"
      ]
     },
     "metadata": {},
     "output_type": "display_data"
    }
   ],
   "source": [
    "model = SentenceTransformer('all-MiniLM-L6-v2')"
   ]
  },
  {
   "cell_type": "code",
   "execution_count": 6,
   "metadata": {
    "colab": {
     "base_uri": "https://localhost:8080/"
    },
    "id": "nF_unN_HaVJ4",
    "outputId": "76ad7afa-685b-4053-f2ef-8c21b9632b25"
   },
   "outputs": [
    {
     "name": "stderr",
     "output_type": "stream",
     "text": [
      "/usr/local/lib/python3.11/dist-packages/torch/nn/modules/module.py:1750: FutureWarning: `encoder_attention_mask` is deprecated and will be removed in version 4.55.0 for `BertSdpaSelfAttention.forward`.\n",
      "  return forward_call(*args, **kwargs)\n"
     ]
    }
   ],
   "source": [
    "resume_texts = list(resumes.values())\n",
    "jd_texts = list(job_descriptions.values())\n",
    "resume_embeddings = model.encode(resume_texts, convert_to_tensor=True)\n",
    "jd_embeddings = model.encode(jd_texts, convert_to_tensor=True)"
   ]
  },
  {
   "cell_type": "code",
   "execution_count": 7,
   "metadata": {
    "id": "ah1BC5Mxacsi"
   },
   "outputs": [],
   "source": [
    "similarity_matrix = util.cos_sim(resume_embeddings, jd_embeddings).cpu().numpy()"
   ]
  },
  {
   "cell_type": "code",
   "execution_count": 8,
   "metadata": {
    "colab": {
     "base_uri": "https://localhost:8080/"
    },
    "id": "4shWC61qahWh",
    "outputId": "34298bf1-8cfe-4212-a419-1174929a1200"
   },
   "outputs": [
    {
     "name": "stdout",
     "output_type": "stream",
     "text": [
      "🔍 Similarity Scores (in %):\n",
      "               JD 1       JD 2       JD 3\n",
      "Resume A  70.570000  41.480000  33.660000\n",
      "Resume B  43.680000  84.889999  24.690001\n",
      "Resume C  35.650002  15.770000  76.419998\n"
     ]
    }
   ],
   "source": [
    "similarity_df = pd.DataFrame(similarity_matrix * 100, index=resumes.keys(), columns=job_descriptions.keys())\n",
    "print(\"🔍 Similarity Scores (in %):\")\n",
    "print(similarity_df.round(2))"
   ]
  },
  {
   "cell_type": "code",
   "execution_count": 9,
   "metadata": {
    "colab": {
     "base_uri": "https://localhost:8080/"
    },
    "id": "C_JAm7Rual90",
    "outputId": "718fcf06-edf7-4c0d-914b-bba37a7f9bf9"
   },
   "outputs": [
    {
     "name": "stdout",
     "output_type": "stream",
     "text": [
      "\n",
      "✅ Best JD match for each resume:\n",
      "Resume A ➡️ JD 1 (Score: 70.57%)\n",
      "Resume B ➡️ JD 2 (Score: 84.89%)\n",
      "Resume C ➡️ JD 3 (Score: 76.42%)\n"
     ]
    }
   ],
   "source": [
    "print(\"\\n✅ Best JD match for each resume:\")\n",
    "for resume in similarity_df.index:\n",
    "    best_jd = similarity_df.loc[resume].idxmax()\n",
    "    score = similarity_df.loc[resume, best_jd]\n",
    "    print(f\"{resume} ➡️ {best_jd} (Score: {score:.2f}%)\")\n"
   ]
  }
 ],
 "metadata": {
  "colab": {
   "provenance": []
  },
  "kernelspec": {
   "display_name": "Python 3",
   "name": "python3"
  },
  "language_info": {
   "name": "python"
  }
 },
 "nbformat": 4,
 "nbformat_minor": 0
}
